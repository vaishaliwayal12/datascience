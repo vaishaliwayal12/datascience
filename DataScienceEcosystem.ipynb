{
 "cells": [
  {
   "cell_type": "markdown",
   "id": "403efce4-1fe6-42e1-9308-9b06527b7f1a",
   "metadata": {},
   "source": [
    "# Data Science Tools and Ecosystem"
   ]
  },
  {
   "cell_type": "markdown",
   "id": "063559e4-798b-4f8b-b037-ebad0ed4b5a2",
   "metadata": {},
   "source": [
    "This Notebook outlines the Data Science Tools and Ecosystem. "
   ]
  },
  {
   "cell_type": "markdown",
   "id": "9a99f3dd-9dd4-4921-8ad9-a63c580e5434",
   "metadata": {
    "tags": []
   },
   "source": [
    "Following are the most popular languages used by data scientists:\n",
    "1. Java\n",
    "2. Python\n",
    "3. C++\n",
    "4. C\n",
    "5. SQL"
   ]
  },
  {
   "cell_type": "markdown",
   "id": "3a38ec94-11b2-4148-bf8b-24120d41a553",
   "metadata": {},
   "source": [
    "Following are the commonly used data science libraries used by data scientists: \n",
    "1. Panda\n",
    "2. Numpy\n",
    "3. Scipy\n",
    "4. SeaBorn"
   ]
  },
  {
   "cell_type": "markdown",
   "id": "7324f660-a46d-4275-bc7f-1e5dec071dba",
   "metadata": {},
   "source": [
    "|Data Science Tools|\n",
    "|----|\n",
    "|Rstudio|\n",
    "|Apacge Spark|\n",
    "|TensorFlow|"
   ]
  },
  {
   "cell_type": "markdown",
   "id": "7f0ff211-5329-4a8e-b2d9-f08082cef2d5",
   "metadata": {},
   "source": [
    "### Following examples illustrate the evaluation of arithmetic expressions in Python:"
   ]
  },
  {
   "cell_type": "code",
   "execution_count": 13,
   "id": "fef4fd32-b3c3-4989-9196-47cc4c0c6a6c",
   "metadata": {
    "tags": []
   },
   "outputs": [
    {
     "data": {
      "text/plain": [
       "32"
      ]
     },
     "execution_count": 13,
     "metadata": {},
     "output_type": "execute_result"
    }
   ],
   "source": [
    "# Expression to multiply and then add the integers\n",
    "(6*4)+8"
   ]
  },
  {
   "cell_type": "code",
   "execution_count": 11,
   "id": "e0c4d866-3fad-4e21-ae93-09daf137b831",
   "metadata": {
    "tags": []
   },
   "outputs": [
    {
     "data": {
      "text/plain": [
       "4.0"
      ]
     },
     "execution_count": 11,
     "metadata": {},
     "output_type": "execute_result"
    }
   ],
   "source": [
    "# This expression will convert minutes to hours by dividing by 60 \n",
    "(240)/60"
   ]
  },
  {
   "cell_type": "markdown",
   "id": "1614ecc9-2e2e-4a9a-b4df-161687a47fe1",
   "metadata": {
    "tags": []
   },
   "source": [
    "**Objectives**\n",
    "\n",
    "- Python\n",
    "- SQL\n",
    "- Java"
   ]
  },
  {
   "cell_type": "markdown",
   "id": "ce113dca-3d4f-4b12-8551-3b7e7c1f264a",
   "metadata": {},
   "source": [
    "## Author\n",
    "Vaishali Wayal"
   ]
  },
  {
   "cell_type": "code",
   "execution_count": null,
   "id": "2d1bdc7b-7edc-4029-b214-9d5fca47d6c3",
   "metadata": {},
   "outputs": [],
   "source": []
  }
 ],
 "metadata": {
  "kernelspec": {
   "display_name": "Python",
   "language": "python",
   "name": "conda-env-python-py"
  },
  "language_info": {
   "codemirror_mode": {
    "name": "ipython",
    "version": 3
   },
   "file_extension": ".py",
   "mimetype": "text/x-python",
   "name": "python",
   "nbconvert_exporter": "python",
   "pygments_lexer": "ipython3",
   "version": "3.7.12"
  }
 },
 "nbformat": 4,
 "nbformat_minor": 5
}
